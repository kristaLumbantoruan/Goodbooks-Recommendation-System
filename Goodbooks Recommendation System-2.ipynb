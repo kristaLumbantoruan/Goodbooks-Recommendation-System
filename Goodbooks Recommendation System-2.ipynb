{
 "cells": [
  {
   "cell_type": "code",
   "execution_count": 1,
   "metadata": {},
   "outputs": [
    {
     "data": {
      "text/plain": [
       "'C:\\\\BigDataLocalSetup\\\\spark'"
      ]
     },
     "execution_count": 1,
     "metadata": {},
     "output_type": "execute_result"
    }
   ],
   "source": [
    "import findspark\n",
    "findspark.init()\n",
    "findspark.find()\n",
    "\n",
    "import pyspark\n",
    "findspark.find()"
   ]
  },
  {
   "cell_type": "code",
   "execution_count": 2,
   "metadata": {},
   "outputs": [],
   "source": [
    "import pyspark\n",
    "\n",
    "from pyspark.sql import SparkSession\n",
    "\n",
    "spark = SparkSession.builder \\\n",
    "    .master(\"local[2]\") \\\n",
    "    .appName(\"Recommendation_System_GoodBooks\") \\\n",
    "    .getOrCreate()\n",
    "\n",
    "sc = spark.sparkContext"
   ]
  },
  {
   "cell_type": "code",
   "execution_count": 3,
   "metadata": {},
   "outputs": [
    {
     "data": {
      "text/html": [
       "\n",
       "            <div>\n",
       "                <p><b>SparkSession - in-memory</b></p>\n",
       "                \n",
       "        <div>\n",
       "            <p><b>SparkContext</b></p>\n",
       "\n",
       "            <p><a href=\"http://DESKTOP-SSE3LD6:4040\">Spark UI</a></p>\n",
       "\n",
       "            <dl>\n",
       "              <dt>Version</dt>\n",
       "                <dd><code>v2.4.7</code></dd>\n",
       "              <dt>Master</dt>\n",
       "                <dd><code>local[2]</code></dd>\n",
       "              <dt>AppName</dt>\n",
       "                <dd><code>Recommendation_System_GoodBooks</code></dd>\n",
       "            </dl>\n",
       "        </div>\n",
       "        \n",
       "            </div>\n",
       "        "
      ],
      "text/plain": [
       "<pyspark.sql.session.SparkSession at 0x22d4f26c6d8>"
      ]
     },
     "execution_count": 3,
     "metadata": {},
     "output_type": "execute_result"
    }
   ],
   "source": [
    "spark"
   ]
  },
  {
   "cell_type": "code",
   "execution_count": 4,
   "metadata": {},
   "outputs": [],
   "source": [
    "# Load Dataset\n",
    "data = spark.read.format('com.databricks.spark.csv').\\\n",
    "                       options(header='true', \\\n",
    "                       inferschema='true').\\\n",
    "            load(\"book_tags.csv\",header=True);"
   ]
  },
  {
   "cell_type": "markdown",
   "metadata": {},
   "source": [
    "# Data Preparation and Exploratory Data Analysis (EDA)"
   ]
  },
  {
   "cell_type": "code",
   "execution_count": 5,
   "metadata": {},
   "outputs": [
    {
     "data": {
      "text/plain": [
       "DataFrame[user_id: int, book_id: int]"
      ]
     },
     "metadata": {},
     "output_type": "display_data"
    }
   ],
   "source": [
    "#import to_read data\n",
    "\n",
    "file_location = \"C:/Users/ITD-STU/PDB/Proyek/to_read.csv\"\n",
    "file_type = \"csv\"\n",
    "\n",
    "# CSV optiAons\n",
    "infer_schema = \"True\"\n",
    "first_row_is_header = \"True\"\n",
    "delimiter = \",\"\n",
    "\n",
    "# The applied options are for CSV files. For other file types, these will be ignored.\n",
    "to_read = spark.read.format(file_type) \\\n",
    "  .option(\"inferSchema\", infer_schema) \\\n",
    "  .option(\"header\", first_row_is_header) \\\n",
    "  .option(\"sep\", delimiter) \\\n",
    "  .load(file_location)\n",
    "\n",
    "display(to_read)\n",
    "\n",
    "# Create Temporary Tables\n",
    "to_read.createOrReplaceTempView(\"to_read\")"
   ]
  },
  {
   "cell_type": "code",
   "execution_count": 6,
   "metadata": {},
   "outputs": [
    {
     "name": "stdout",
     "output_type": "stream",
     "text": [
      "+-------+-------+\n",
      "|user_id|book_id|\n",
      "+-------+-------+\n",
      "|      1|    112|\n",
      "|      1|    235|\n",
      "|      1|    533|\n",
      "|      1|   1198|\n",
      "|      1|   1874|\n",
      "+-------+-------+\n",
      "only showing top 5 rows\n",
      "\n",
      "root\n",
      " |-- user_id: integer (nullable = true)\n",
      " |-- book_id: integer (nullable = true)\n",
      "\n"
     ]
    }
   ],
   "source": [
    "to_read.show(5)\n",
    "to_read.printSchema()"
   ]
  },
  {
   "cell_type": "code",
   "execution_count": 7,
   "metadata": {},
   "outputs": [
    {
     "data": {
      "text/plain": [
       "DataFrame[book_id: int, user_id: int, rating: int]"
      ]
     },
     "metadata": {},
     "output_type": "display_data"
    }
   ],
   "source": [
    "#import ratings data\n",
    "file_location = \"C:/Users/ITD-STU/PDB/Proyek/ratings.csv\"\n",
    "file_type = \"csv\"\n",
    "\n",
    "# CSV options\n",
    "infer_schema = \"True\"\n",
    "first_row_is_header = \"True\"\n",
    "delimiter = \",\"\n",
    "\n",
    "# The applied options are for CSV files. For other file types, these will be ignored.\n",
    "ratings = spark.read.format(file_type) \\\n",
    "  .option(\"inferSchema\", infer_schema) \\\n",
    "  .option(\"header\", first_row_is_header) \\\n",
    "  .option(\"sep\", delimiter) \\\n",
    "  .load(file_location)\n",
    "\n",
    "display(ratings)\n",
    "\n",
    "# Create Temporary Tables\n",
    "ratings.createOrReplaceTempView(\"ratings\")"
   ]
  },
  {
   "cell_type": "code",
   "execution_count": 8,
   "metadata": {},
   "outputs": [
    {
     "name": "stdout",
     "output_type": "stream",
     "text": [
      "+-------+-------+------+\n",
      "|book_id|user_id|rating|\n",
      "+-------+-------+------+\n",
      "|      1|    314|     5|\n",
      "|      1|    439|     3|\n",
      "|      1|    588|     5|\n",
      "|      1|   1169|     4|\n",
      "|      1|   1185|     4|\n",
      "+-------+-------+------+\n",
      "only showing top 5 rows\n",
      "\n",
      "root\n",
      " |-- book_id: integer (nullable = true)\n",
      " |-- user_id: integer (nullable = true)\n",
      " |-- rating: integer (nullable = true)\n",
      "\n"
     ]
    }
   ],
   "source": [
    "ratings.show(5)\n",
    "ratings.printSchema()"
   ]
  },
  {
   "cell_type": "code",
   "execution_count": 9,
   "metadata": {},
   "outputs": [
    {
     "data": {
      "text/plain": [
       "DataFrame[id: int, book_id: int, best_book_id: int, work_id: int, books_count: int, isbn: string, isbn13: double, authors: string, original_publication_year: double, original_title: string, title: string, language_code: string, average_rating: string, ratings_count: string, work_ratings_count: string, work_text_reviews_count: string, ratings_1: double, ratings_2: int, ratings_3: int, ratings_4: int, ratings_5: int, image_url: string, small_image_url: string]"
      ]
     },
     "metadata": {},
     "output_type": "display_data"
    }
   ],
   "source": [
    "#import books data\n",
    "file_location = \"C:/Users/ITD-STU/PDB/Proyek/books.csv\"\n",
    "file_type = \"csv\"\n",
    "\n",
    "# CSV options\n",
    "infer_schema = \"True\"\n",
    "first_row_is_header = \"True\"\n",
    "delimiter = \",\"\n",
    "\n",
    "# The applied options are for CSV files. For other file types, these will be ignored.\n",
    "books = spark.read.format(file_type) \\\n",
    "  .option(\"inferSchema\", infer_schema) \\\n",
    "  .option(\"header\", first_row_is_header) \\\n",
    "  .option(\"sto_readep\", delimiter) \\\n",
    "  .load(file_location)\n",
    "\n",
    "display(books)\n",
    "\n",
    "# Create Temporary Tables\n",
    "books.createOrReplaceTempView(\"books\")"
   ]
  },
  {
   "cell_type": "code",
   "execution_count": 10,
   "metadata": {},
   "outputs": [
    {
     "name": "stdout",
     "output_type": "stream",
     "text": [
      "+---+-------+------------+-------+-----------+---------+----------------+--------------------+-------------------------+--------------------+--------------------+-------------+--------------+-------------+------------------+-----------------------+---------+---------+---------+---------+---------+--------------------+--------------------+\n",
      "| id|book_id|best_book_id|work_id|books_count|     isbn|          isbn13|             authors|original_publication_year|      original_title|               title|language_code|average_rating|ratings_count|work_ratings_count|work_text_reviews_count|ratings_1|ratings_2|ratings_3|ratings_4|ratings_5|           image_url|     small_image_url|\n",
      "+---+-------+------------+-------+-----------+---------+----------------+--------------------+-------------------------+--------------------+--------------------+-------------+--------------+-------------+------------------+-----------------------+---------+---------+---------+---------+---------+--------------------+--------------------+\n",
      "|  1|2767052|     2767052|2792775|        272|439023483|9.78043902348E12|     Suzanne Collins|                   2008.0|    The Hunger Games|The Hunger Games ...|          eng|          4.34|      4780653|           4942365|                 155254|  66715.0|   127936|   560092|  1481305|  2706317|https://images.gr...|https://images.gr...|\n",
      "|  2|      3|           3|4640799|        491|439554934|9.78043955493E12|J.K. Rowling, Mar...|                   1997.0|Harry Potter and ...|Harry Potter and ...|          eng|          4.44|      4602479|           4800065|                  75867|  75504.0|   101676|   455024|  1156318|  3011543|https://images.gr...|https://images.gr...|\n",
      "|  3|  41865|       41865|3212258|        226|316015849|9.78031601584E12|     Stephenie Meyer|                   2005.0|            Twilight|Twilight (Twiligh...|        en-US|          3.57|      3866839|           3916824|                  95009| 456191.0|   436802|   793319|   875073|  1355439|https://images.gr...|https://images.gr...|\n",
      "|  4|   2657|        2657|3275794|        487| 61120081|9.78006112008E12|          Harper Lee|                   1960.0|To Kill a Mocking...|To Kill a Mocking...|          eng|          4.25|      3198671|           3340896|                  72586|  60427.0|   117415|   446835|  1001952|  1714267|https://images.gr...|https://images.gr...|\n",
      "|  5|   4671|        4671| 245494|       1356|743273567|9.78074327356E12| F. Scott Fitzgerald|                   1925.0|    The Great Gatsby|    The Great Gatsby|          eng|          3.89|      2683664|           2773745|                  51992|  86236.0|   197621|   606158|   936012|   947718|https://images.gr...|https://images.gr...|\n",
      "+---+-------+------------+-------+-----------+---------+----------------+--------------------+-------------------------+--------------------+--------------------+-------------+--------------+-------------+------------------+-----------------------+---------+---------+---------+---------+---------+--------------------+--------------------+\n",
      "only showing top 5 rows\n",
      "\n",
      "root\n",
      " |-- id: integer (nullable = true)\n",
      " |-- book_id: integer (nullable = true)\n",
      " |-- best_book_id: integer (nullable = true)\n",
      " |-- work_id: integer (nullable = true)\n",
      " |-- books_count: integer (nullable = true)\n",
      " |-- isbn: string (nullable = true)\n",
      " |-- isbn13: double (nullable = true)\n",
      " |-- authors: string (nullable = true)\n",
      " |-- original_publication_year: double (nullable = true)\n",
      " |-- original_title: string (nullable = true)\n",
      " |-- title: string (nullable = true)\n",
      " |-- language_code: string (nullable = true)\n",
      " |-- average_rating: string (nullable = true)\n",
      " |-- ratings_count: string (nullable = true)\n",
      " |-- work_ratings_count: string (nullable = true)\n",
      " |-- work_text_reviews_count: string (nullable = true)\n",
      " |-- ratings_1: double (nullable = true)\n",
      " |-- ratings_2: integer (nullable = true)\n",
      " |-- ratings_3: integer (nullable = true)\n",
      " |-- ratings_4: integer (nullable = true)\n",
      " |-- ratings_5: integer (nullable = true)\n",
      " |-- image_url: string (nullable = true)\n",
      " |-- small_image_url: string (nullable = true)\n",
      "\n"
     ]
    }
   ],
   "source": [
    "books.show(5)\n",
    "books.printSchema()"
   ]
  },
  {
   "cell_type": "code",
   "execution_count": 11,
   "metadata": {},
   "outputs": [
    {
     "data": {
      "text/html": [
       "<div>\n",
       "<style scoped>\n",
       "    .dataframe tbody tr th:only-of-type {\n",
       "        vertical-align: middle;\n",
       "    }\n",
       "\n",
       "    .dataframe tbody tr th {\n",
       "        vertical-align: top;\n",
       "    }\n",
       "\n",
       "    .dataframe thead th {\n",
       "        text-align: right;\n",
       "    }\n",
       "</style>\n",
       "<table border=\"1\" class=\"dataframe\">\n",
       "  <thead>\n",
       "    <tr style=\"text-align: right;\">\n",
       "      <th></th>\n",
       "      <th>id</th>\n",
       "      <th>book_id</th>\n",
       "      <th>best_book_id</th>\n",
       "      <th>work_id</th>\n",
       "      <th>books_count</th>\n",
       "      <th>isbn</th>\n",
       "      <th>isbn13</th>\n",
       "      <th>authors</th>\n",
       "      <th>original_publication_year</th>\n",
       "      <th>original_title</th>\n",
       "      <th>...</th>\n",
       "      <th>ratings_count</th>\n",
       "      <th>work_ratings_count</th>\n",
       "      <th>work_text_reviews_count</th>\n",
       "      <th>ratings_1</th>\n",
       "      <th>ratings_2</th>\n",
       "      <th>ratings_3</th>\n",
       "      <th>ratings_4</th>\n",
       "      <th>ratings_5</th>\n",
       "      <th>image_url</th>\n",
       "      <th>small_image_url</th>\n",
       "    </tr>\n",
       "  </thead>\n",
       "  <tbody>\n",
       "    <tr>\n",
       "      <th>0</th>\n",
       "      <td>1</td>\n",
       "      <td>2767052</td>\n",
       "      <td>2767052</td>\n",
       "      <td>2792775</td>\n",
       "      <td>272</td>\n",
       "      <td>439023483</td>\n",
       "      <td>9.780439e+12</td>\n",
       "      <td>Suzanne Collins</td>\n",
       "      <td>2008.0</td>\n",
       "      <td>The Hunger Games</td>\n",
       "      <td>...</td>\n",
       "      <td>4780653</td>\n",
       "      <td>4942365</td>\n",
       "      <td>155254</td>\n",
       "      <td>66715.0</td>\n",
       "      <td>127936</td>\n",
       "      <td>560092</td>\n",
       "      <td>1481305</td>\n",
       "      <td>2706317</td>\n",
       "      <td>https://images.gr-assets.com/books/1447303603m...</td>\n",
       "      <td>https://images.gr-assets.com/books/1447303603s...</td>\n",
       "    </tr>\n",
       "    <tr>\n",
       "      <th>1</th>\n",
       "      <td>2</td>\n",
       "      <td>3</td>\n",
       "      <td>3</td>\n",
       "      <td>4640799</td>\n",
       "      <td>491</td>\n",
       "      <td>439554934</td>\n",
       "      <td>9.780440e+12</td>\n",
       "      <td>J.K. Rowling, Mary GrandPré</td>\n",
       "      <td>1997.0</td>\n",
       "      <td>Harry Potter and the Philosopher's Stone</td>\n",
       "      <td>...</td>\n",
       "      <td>4602479</td>\n",
       "      <td>4800065</td>\n",
       "      <td>75867</td>\n",
       "      <td>75504.0</td>\n",
       "      <td>101676</td>\n",
       "      <td>455024</td>\n",
       "      <td>1156318</td>\n",
       "      <td>3011543</td>\n",
       "      <td>https://images.gr-assets.com/books/1474154022m...</td>\n",
       "      <td>https://images.gr-assets.com/books/1474154022s...</td>\n",
       "    </tr>\n",
       "    <tr>\n",
       "      <th>2</th>\n",
       "      <td>3</td>\n",
       "      <td>41865</td>\n",
       "      <td>41865</td>\n",
       "      <td>3212258</td>\n",
       "      <td>226</td>\n",
       "      <td>316015849</td>\n",
       "      <td>9.780316e+12</td>\n",
       "      <td>Stephenie Meyer</td>\n",
       "      <td>2005.0</td>\n",
       "      <td>Twilight</td>\n",
       "      <td>...</td>\n",
       "      <td>3866839</td>\n",
       "      <td>3916824</td>\n",
       "      <td>95009</td>\n",
       "      <td>456191.0</td>\n",
       "      <td>436802</td>\n",
       "      <td>793319</td>\n",
       "      <td>875073</td>\n",
       "      <td>1355439</td>\n",
       "      <td>https://images.gr-assets.com/books/1361039443m...</td>\n",
       "      <td>https://images.gr-assets.com/books/1361039443s...</td>\n",
       "    </tr>\n",
       "    <tr>\n",
       "      <th>3</th>\n",
       "      <td>4</td>\n",
       "      <td>2657</td>\n",
       "      <td>2657</td>\n",
       "      <td>3275794</td>\n",
       "      <td>487</td>\n",
       "      <td>61120081</td>\n",
       "      <td>9.780061e+12</td>\n",
       "      <td>Harper Lee</td>\n",
       "      <td>1960.0</td>\n",
       "      <td>To Kill a Mockingbird</td>\n",
       "      <td>...</td>\n",
       "      <td>3198671</td>\n",
       "      <td>3340896</td>\n",
       "      <td>72586</td>\n",
       "      <td>60427.0</td>\n",
       "      <td>117415</td>\n",
       "      <td>446835</td>\n",
       "      <td>1001952</td>\n",
       "      <td>1714267</td>\n",
       "      <td>https://images.gr-assets.com/books/1361975680m...</td>\n",
       "      <td>https://images.gr-assets.com/books/1361975680s...</td>\n",
       "    </tr>\n",
       "    <tr>\n",
       "      <th>4</th>\n",
       "      <td>5</td>\n",
       "      <td>4671</td>\n",
       "      <td>4671</td>\n",
       "      <td>245494</td>\n",
       "      <td>1356</td>\n",
       "      <td>743273567</td>\n",
       "      <td>9.780743e+12</td>\n",
       "      <td>F. Scott Fitzgerald</td>\n",
       "      <td>1925.0</td>\n",
       "      <td>The Great Gatsby</td>\n",
       "      <td>...</td>\n",
       "      <td>2683664</td>\n",
       "      <td>2773745</td>\n",
       "      <td>51992</td>\n",
       "      <td>86236.0</td>\n",
       "      <td>197621</td>\n",
       "      <td>606158</td>\n",
       "      <td>936012</td>\n",
       "      <td>947718</td>\n",
       "      <td>https://images.gr-assets.com/books/1490528560m...</td>\n",
       "      <td>https://images.gr-assets.com/books/1490528560s...</td>\n",
       "    </tr>\n",
       "  </tbody>\n",
       "</table>\n",
       "<p>5 rows × 23 columns</p>\n",
       "</div>"
      ],
      "text/plain": [
       "   id  book_id  best_book_id  work_id  books_count       isbn        isbn13  \\\n",
       "0   1  2767052       2767052  2792775          272  439023483  9.780439e+12   \n",
       "1   2        3             3  4640799          491  439554934  9.780440e+12   \n",
       "2   3    41865         41865  3212258          226  316015849  9.780316e+12   \n",
       "3   4     2657          2657  3275794          487   61120081  9.780061e+12   \n",
       "4   5     4671          4671   245494         1356  743273567  9.780743e+12   \n",
       "\n",
       "                       authors  original_publication_year  \\\n",
       "0              Suzanne Collins                     2008.0   \n",
       "1  J.K. Rowling, Mary GrandPré                     1997.0   \n",
       "2              Stephenie Meyer                     2005.0   \n",
       "3                   Harper Lee                     1960.0   \n",
       "4          F. Scott Fitzgerald                     1925.0   \n",
       "\n",
       "                             original_title  ... ratings_count  \\\n",
       "0                          The Hunger Games  ...       4780653   \n",
       "1  Harry Potter and the Philosopher's Stone  ...       4602479   \n",
       "2                                  Twilight  ...       3866839   \n",
       "3                     To Kill a Mockingbird  ...       3198671   \n",
       "4                          The Great Gatsby  ...       2683664   \n",
       "\n",
       "  work_ratings_count work_text_reviews_count ratings_1 ratings_2 ratings_3  \\\n",
       "0            4942365                  155254   66715.0    127936    560092   \n",
       "1            4800065                   75867   75504.0    101676    455024   \n",
       "2            3916824                   95009  456191.0    436802    793319   \n",
       "3            3340896                   72586   60427.0    117415    446835   \n",
       "4            2773745                   51992   86236.0    197621    606158   \n",
       "\n",
       "   ratings_4  ratings_5                                          image_url  \\\n",
       "0    1481305    2706317  https://images.gr-assets.com/books/1447303603m...   \n",
       "1    1156318    3011543  https://images.gr-assets.com/books/1474154022m...   \n",
       "2     875073    1355439  https://images.gr-assets.com/books/1361039443m...   \n",
       "3    1001952    1714267  https://images.gr-assets.com/books/1361975680m...   \n",
       "4     936012     947718  https://images.gr-assets.com/books/1490528560m...   \n",
       "\n",
       "                                     small_image_url  \n",
       "0  https://images.gr-assets.com/books/1447303603s...  \n",
       "1  https://images.gr-assets.com/books/1474154022s...  \n",
       "2  https://images.gr-assets.com/books/1361039443s...  \n",
       "3  https://images.gr-assets.com/books/1361975680s...  \n",
       "4  https://images.gr-assets.com/books/1490528560s...  \n",
       "\n",
       "[5 rows x 23 columns]"
      ]
     },
     "execution_count": 11,
     "metadata": {},
     "output_type": "execute_result"
    }
   ],
   "source": [
    "#converting books data into pandas dataframe\n",
    "books_df = books.toPandas()\n",
    "books_df.head()"
   ]
  },
  {
   "cell_type": "code",
   "execution_count": 12,
   "metadata": {},
   "outputs": [],
   "source": [
    "import pandas as pd\n",
    "import numpy as np\n",
    "\n",
    "books_df = books_df[books_df.ratings_count.str.isdigit() == True]"
   ]
  },
  {
   "cell_type": "code",
   "execution_count": 13,
   "metadata": {},
   "outputs": [],
   "source": [
    "books_df.ratings_count = books_df.ratings_count.astype('int')"
   ]
  },
  {
   "cell_type": "code",
   "execution_count": 14,
   "metadata": {},
   "outputs": [
    {
     "data": {
      "text/html": [
       "<div>\n",
       "<style scoped>\n",
       "    .dataframe tbody tr th:only-of-type {\n",
       "        vertical-align: middle;\n",
       "    }\n",
       "\n",
       "    .dataframe tbody tr th {\n",
       "        vertical-align: top;\n",
       "    }\n",
       "\n",
       "    .dataframe thead th {\n",
       "        text-align: right;\n",
       "    }\n",
       "</style>\n",
       "<table border=\"1\" class=\"dataframe\">\n",
       "  <thead>\n",
       "    <tr style=\"text-align: right;\">\n",
       "      <th></th>\n",
       "      <th>original_title</th>\n",
       "      <th>ratings_count</th>\n",
       "      <th>average_rating</th>\n",
       "    </tr>\n",
       "  </thead>\n",
       "  <tbody>\n",
       "    <tr>\n",
       "      <th>0</th>\n",
       "      <td>The Hunger Games</td>\n",
       "      <td>4780653</td>\n",
       "      <td>4.34</td>\n",
       "    </tr>\n",
       "    <tr>\n",
       "      <th>1</th>\n",
       "      <td>Harry Potter and the Philosopher's Stone</td>\n",
       "      <td>4602479</td>\n",
       "      <td>4.44</td>\n",
       "    </tr>\n",
       "    <tr>\n",
       "      <th>2</th>\n",
       "      <td>Twilight</td>\n",
       "      <td>3866839</td>\n",
       "      <td>3.57</td>\n",
       "    </tr>\n",
       "    <tr>\n",
       "      <th>3</th>\n",
       "      <td>To Kill a Mockingbird</td>\n",
       "      <td>3198671</td>\n",
       "      <td>4.25</td>\n",
       "    </tr>\n",
       "    <tr>\n",
       "      <th>4</th>\n",
       "      <td>The Great Gatsby</td>\n",
       "      <td>2683664</td>\n",
       "      <td>3.89</td>\n",
       "    </tr>\n",
       "    <tr>\n",
       "      <th>5</th>\n",
       "      <td>The Fault in Our Stars</td>\n",
       "      <td>2346404</td>\n",
       "      <td>4.26</td>\n",
       "    </tr>\n",
       "    <tr>\n",
       "      <th>6</th>\n",
       "      <td>The Hobbit or There and Back Again</td>\n",
       "      <td>2071616</td>\n",
       "      <td>4.25</td>\n",
       "    </tr>\n",
       "    <tr>\n",
       "      <th>7</th>\n",
       "      <td>The Catcher in the Rye</td>\n",
       "      <td>2044241</td>\n",
       "      <td>3.79</td>\n",
       "    </tr>\n",
       "    <tr>\n",
       "      <th>9</th>\n",
       "      <td>Pride and Prejudice</td>\n",
       "      <td>2035490</td>\n",
       "      <td>4.24</td>\n",
       "    </tr>\n",
       "    <tr>\n",
       "      <th>8</th>\n",
       "      <td>Angels &amp; Demons</td>\n",
       "      <td>2001311</td>\n",
       "      <td>3.85</td>\n",
       "    </tr>\n",
       "  </tbody>\n",
       "</table>\n",
       "</div>"
      ],
      "text/plain": [
       "                             original_title  ratings_count average_rating\n",
       "0                          The Hunger Games        4780653           4.34\n",
       "1  Harry Potter and the Philosopher's Stone        4602479           4.44\n",
       "2                                  Twilight        3866839           3.57\n",
       "3                     To Kill a Mockingbird        3198671           4.25\n",
       "4                          The Great Gatsby        2683664           3.89\n",
       "5                    The Fault in Our Stars        2346404           4.26\n",
       "6        The Hobbit or There and Back Again        2071616           4.25\n",
       "7                    The Catcher in the Rye        2044241           3.79\n",
       "9                       Pride and Prejudice        2035490           4.24\n",
       "8                          Angels & Demons         2001311           3.85"
      ]
     },
     "execution_count": 14,
     "metadata": {},
     "output_type": "execute_result"
    }
   ],
   "source": [
    "#Top books with most number of ratings on goodbooks\n",
    "\n",
    "books_df.sort_values(by = 'ratings_count', ascending = False)[['original_title','ratings_count', 'average_rating' ]][0:10]"
   ]
  },
  {
   "cell_type": "code",
   "execution_count": 15,
   "metadata": {},
   "outputs": [],
   "source": [
    "most_ratings = books_df.sort_values(by = 'ratings_count', ascending = False)[['original_title','ratings_count', 'average_rating', 'image_url' ]][0:10]"
   ]
  },
  {
   "cell_type": "markdown",
   "metadata": {},
   "source": [
    "\n",
    "#### Printing top books with most number of ratings"
   ]
  },
  {
   "cell_type": "code",
   "execution_count": 16,
   "metadata": {},
   "outputs": [
    {
     "data": {
      "text/html": [
       "<table border=\"1\" class=\"dataframe\">\n",
       "  <thead>\n",
       "    <tr style=\"text-align: right;\">\n",
       "      <th></th>\n",
       "      <th>original_title</th>\n",
       "      <th>img_html</th>\n",
       "      <th>ratings_count</th>\n",
       "      <th>average_rating</th>\n",
       "    </tr>\n",
       "  </thead>\n",
       "  <tbody>\n",
       "    <tr>\n",
       "      <th>0</th>\n",
       "      <td>The Hunger Games</td>\n",
       "      <td><img src=\"https://images.gr-assets.com/books/1447303603m/2767052.jpg\" style=\"max-height:124px;\"></img></td>\n",
       "      <td>4780653</td>\n",
       "      <td>4.34</td>\n",
       "    </tr>\n",
       "    <tr>\n",
       "      <th>1</th>\n",
       "      <td>Harry Potter and the Philosopher's Stone</td>\n",
       "      <td><img src=\"https://images.gr-assets.com/books/1474154022m/3.jpg\" style=\"max-height:124px;\"></img></td>\n",
       "      <td>4602479</td>\n",
       "      <td>4.44</td>\n",
       "    </tr>\n",
       "    <tr>\n",
       "      <th>2</th>\n",
       "      <td>Twilight</td>\n",
       "      <td><img src=\"https://images.gr-assets.com/books/1361039443m/41865.jpg\" style=\"max-height:124px;\"></img></td>\n",
       "      <td>3866839</td>\n",
       "      <td>3.57</td>\n",
       "    </tr>\n",
       "    <tr>\n",
       "      <th>3</th>\n",
       "      <td>To Kill a Mockingbird</td>\n",
       "      <td><img src=\"https://images.gr-assets.com/books/1361975680m/2657.jpg\" style=\"max-height:124px;\"></img></td>\n",
       "      <td>3198671</td>\n",
       "      <td>4.25</td>\n",
       "    </tr>\n",
       "    <tr>\n",
       "      <th>4</th>\n",
       "      <td>The Great Gatsby</td>\n",
       "      <td><img src=\"https://images.gr-assets.com/books/1490528560m/4671.jpg\" style=\"max-height:124px;\"></img></td>\n",
       "      <td>2683664</td>\n",
       "      <td>3.89</td>\n",
       "    </tr>\n",
       "    <tr>\n",
       "      <th>5</th>\n",
       "      <td>The Fault in Our Stars</td>\n",
       "      <td><img src=\"https://images.gr-assets.com/books/1360206420m/11870085.jpg\" style=\"max-height:124px;\"></img></td>\n",
       "      <td>2346404</td>\n",
       "      <td>4.26</td>\n",
       "    </tr>\n",
       "    <tr>\n",
       "      <th>6</th>\n",
       "      <td>The Hobbit or There and Back Again</td>\n",
       "      <td><img src=\"https://images.gr-assets.com/books/1372847500m/5907.jpg\" style=\"max-height:124px;\"></img></td>\n",
       "      <td>2071616</td>\n",
       "      <td>4.25</td>\n",
       "    </tr>\n",
       "    <tr>\n",
       "      <th>7</th>\n",
       "      <td>The Catcher in the Rye</td>\n",
       "      <td><img src=\"https://images.gr-assets.com/books/1398034300m/5107.jpg\" style=\"max-height:124px;\"></img></td>\n",
       "      <td>2044241</td>\n",
       "      <td>3.79</td>\n",
       "    </tr>\n",
       "    <tr>\n",
       "      <th>9</th>\n",
       "      <td>Pride and Prejudice</td>\n",
       "      <td><img src=\"https://images.gr-assets.com/books/1320399351m/1885.jpg\" style=\"max-height:124px;\"></img></td>\n",
       "      <td>2035490</td>\n",
       "      <td>4.24</td>\n",
       "    </tr>\n",
       "    <tr>\n",
       "      <th>8</th>\n",
       "      <td>Angels & Demons</td>\n",
       "      <td><img src=\"https://images.gr-assets.com/books/1303390735m/960.jpg\" style=\"max-height:124px;\"></img></td>\n",
       "      <td>2001311</td>\n",
       "      <td>3.85</td>\n",
       "    </tr>\n",
       "  </tbody>\n",
       "</table>"
      ],
      "text/plain": [
       "<IPython.core.display.HTML object>"
      ]
     },
     "metadata": {},
     "output_type": "display_data"
    }
   ],
   "source": [
    "from IPython.display import Image, HTML\n",
    "\n",
    "most_ratings['img_html'] = most_ratings['image_url']\\\n",
    "    .str.replace(\n",
    "        '(.*)', \n",
    "        '<img src=\"\\\\1\" style=\"max-height:124px;\"></img>'\n",
    "    )\n",
    "with pd.option_context('display.max_colwidth', 10000):\n",
    "  \n",
    "  display(HTML(most_ratings[['original_title', 'img_html', 'ratings_count', 'average_rating' ]].to_html(escape=False)))"
   ]
  },
  {
   "cell_type": "code",
   "execution_count": 17,
   "metadata": {},
   "outputs": [],
   "source": [
    "books_df.average_rating = books_df.average_rating.astype('float')"
   ]
  },
  {
   "cell_type": "code",
   "execution_count": 18,
   "metadata": {},
   "outputs": [
    {
     "data": {
      "text/html": [
       "<div>\n",
       "<style scoped>\n",
       "    .dataframe tbody tr th:only-of-type {\n",
       "        vertical-align: middle;\n",
       "    }\n",
       "\n",
       "    .dataframe tbody tr th {\n",
       "        vertical-align: top;\n",
       "    }\n",
       "\n",
       "    .dataframe thead th {\n",
       "        text-align: right;\n",
       "    }\n",
       "</style>\n",
       "<table border=\"1\" class=\"dataframe\">\n",
       "  <thead>\n",
       "    <tr style=\"text-align: right;\">\n",
       "      <th></th>\n",
       "      <th>original_title</th>\n",
       "      <th>ratings_count</th>\n",
       "      <th>average_rating</th>\n",
       "    </tr>\n",
       "  </thead>\n",
       "  <tbody>\n",
       "    <tr>\n",
       "      <th>3627</th>\n",
       "      <td>The Complete Calvin and Hobbes</td>\n",
       "      <td>28900</td>\n",
       "      <td>4.82</td>\n",
       "    </tr>\n",
       "    <tr>\n",
       "      <th>861</th>\n",
       "      <td>Words of Radiance</td>\n",
       "      <td>73572</td>\n",
       "      <td>4.77</td>\n",
       "    </tr>\n",
       "    <tr>\n",
       "      <th>3274</th>\n",
       "      <td>None</td>\n",
       "      <td>33220</td>\n",
       "      <td>4.77</td>\n",
       "    </tr>\n",
       "    <tr>\n",
       "      <th>8853</th>\n",
       "      <td>Mark of the Lion Trilogy</td>\n",
       "      <td>9081</td>\n",
       "      <td>4.76</td>\n",
       "    </tr>\n",
       "    <tr>\n",
       "      <th>7946</th>\n",
       "      <td>None</td>\n",
       "      <td>8953</td>\n",
       "      <td>4.76</td>\n",
       "    </tr>\n",
       "    <tr>\n",
       "      <th>4482</th>\n",
       "      <td>It's a Magical World: A Calvin and Hobbes Coll...</td>\n",
       "      <td>22351</td>\n",
       "      <td>4.75</td>\n",
       "    </tr>\n",
       "    <tr>\n",
       "      <th>6360</th>\n",
       "      <td>There's Treasure Everywhere: A Calvin and Hobb...</td>\n",
       "      <td>16766</td>\n",
       "      <td>4.74</td>\n",
       "    </tr>\n",
       "    <tr>\n",
       "      <th>421</th>\n",
       "      <td>Complete Harry Potter Boxed Set</td>\n",
       "      <td>190050</td>\n",
       "      <td>4.74</td>\n",
       "    </tr>\n",
       "    <tr>\n",
       "      <th>6589</th>\n",
       "      <td>The Authoritative Calvin and Hobbes</td>\n",
       "      <td>16087</td>\n",
       "      <td>4.73</td>\n",
       "    </tr>\n",
       "    <tr>\n",
       "      <th>6919</th>\n",
       "      <td>The Indispensable Calvin and Hobbes: A Calvin ...</td>\n",
       "      <td>14597</td>\n",
       "      <td>4.73</td>\n",
       "    </tr>\n",
       "  </tbody>\n",
       "</table>\n",
       "</div>"
      ],
      "text/plain": [
       "                                         original_title  ratings_count  \\\n",
       "3627                     The Complete Calvin and Hobbes          28900   \n",
       "861                                   Words of Radiance          73572   \n",
       "3274                                               None          33220   \n",
       "8853                           Mark of the Lion Trilogy           9081   \n",
       "7946                                               None           8953   \n",
       "4482  It's a Magical World: A Calvin and Hobbes Coll...          22351   \n",
       "6360  There's Treasure Everywhere: A Calvin and Hobb...          16766   \n",
       "421                     Complete Harry Potter Boxed Set         190050   \n",
       "6589                The Authoritative Calvin and Hobbes          16087   \n",
       "6919  The Indispensable Calvin and Hobbes: A Calvin ...          14597   \n",
       "\n",
       "      average_rating  \n",
       "3627            4.82  \n",
       "861             4.77  \n",
       "3274            4.77  \n",
       "8853            4.76  \n",
       "7946            4.76  \n",
       "4482            4.75  \n",
       "6360            4.74  \n",
       "421             4.74  \n",
       "6589            4.73  \n",
       "6919            4.73  "
      ]
     },
     "execution_count": 18,
     "metadata": {},
     "output_type": "execute_result"
    }
   ],
   "source": [
    "#Top books with top average ratings on goodbooks\n",
    "\n",
    "books_df.sort_values(by = 'average_rating', ascending = False)[['original_title','ratings_count', 'average_rating' ]][0:10]"
   ]
  },
  {
   "cell_type": "code",
   "execution_count": 19,
   "metadata": {},
   "outputs": [],
   "source": [
    "high_rating_books = books_df.sort_values(by = 'average_rating', ascending = False)[['original_title','ratings_count','image_url', 'average_rating' ]][0:10]"
   ]
  },
  {
   "cell_type": "markdown",
   "metadata": {},
   "source": [
    "#### Printing top books with highest average ratings"
   ]
  },
  {
   "cell_type": "code",
   "execution_count": 20,
   "metadata": {},
   "outputs": [
    {
     "data": {
      "text/html": [
       "<table border=\"1\" class=\"dataframe\">\n",
       "  <thead>\n",
       "    <tr style=\"text-align: right;\">\n",
       "      <th></th>\n",
       "      <th>original_title</th>\n",
       "      <th>img_html</th>\n",
       "      <th>ratings_count</th>\n",
       "      <th>average_rating</th>\n",
       "    </tr>\n",
       "  </thead>\n",
       "  <tbody>\n",
       "    <tr>\n",
       "      <th>3627</th>\n",
       "      <td>The Complete Calvin and Hobbes</td>\n",
       "      <td><img src=\"https://images.gr-assets.com/books/1473064526m/24812.jpg\" style=\"max-height:124px;\"></img></td>\n",
       "      <td>28900</td>\n",
       "      <td>4.82</td>\n",
       "    </tr>\n",
       "    <tr>\n",
       "      <th>861</th>\n",
       "      <td>Words of Radiance</td>\n",
       "      <td><img src=\"https://images.gr-assets.com/books/1391535251m/17332218.jpg\" style=\"max-height:124px;\"></img></td>\n",
       "      <td>73572</td>\n",
       "      <td>4.77</td>\n",
       "    </tr>\n",
       "    <tr>\n",
       "      <th>3274</th>\n",
       "      <td>None</td>\n",
       "      <td><img src=\"https://s.gr-assets.com/assets/nophoto/book/111x148-bcc042a9c91a29c1d680899eff700a03.png\" style=\"max-height:124px;\"></img></td>\n",
       "      <td>33220</td>\n",
       "      <td>4.77</td>\n",
       "    </tr>\n",
       "    <tr>\n",
       "      <th>8853</th>\n",
       "      <td>Mark of the Lion Trilogy</td>\n",
       "      <td><img src=\"https://images.gr-assets.com/books/1349032180m/95602.jpg\" style=\"max-height:124px;\"></img></td>\n",
       "      <td>9081</td>\n",
       "      <td>4.76</td>\n",
       "    </tr>\n",
       "    <tr>\n",
       "      <th>7946</th>\n",
       "      <td>None</td>\n",
       "      <td><img src=\"https://images.gr-assets.com/books/1410151002m/5031805.jpg\" style=\"max-height:124px;\"></img></td>\n",
       "      <td>8953</td>\n",
       "      <td>4.76</td>\n",
       "    </tr>\n",
       "    <tr>\n",
       "      <th>4482</th>\n",
       "      <td>It's a Magical World: A Calvin and Hobbes Collection</td>\n",
       "      <td><img src=\"https://images.gr-assets.com/books/1437420710m/24814.jpg\" style=\"max-height:124px;\"></img></td>\n",
       "      <td>22351</td>\n",
       "      <td>4.75</td>\n",
       "    </tr>\n",
       "    <tr>\n",
       "      <th>6360</th>\n",
       "      <td>There's Treasure Everywhere: A Calvin and Hobbes Collection</td>\n",
       "      <td><img src=\"https://s.gr-assets.com/assets/nophoto/book/111x148-bcc042a9c91a29c1d680899eff700a03.png\" style=\"max-height:124px;\"></img></td>\n",
       "      <td>16766</td>\n",
       "      <td>4.74</td>\n",
       "    </tr>\n",
       "    <tr>\n",
       "      <th>421</th>\n",
       "      <td>Complete Harry Potter Boxed Set</td>\n",
       "      <td><img src=\"https://images.gr-assets.com/books/1392579059m/862041.jpg\" style=\"max-height:124px;\"></img></td>\n",
       "      <td>190050</td>\n",
       "      <td>4.74</td>\n",
       "    </tr>\n",
       "    <tr>\n",
       "      <th>6589</th>\n",
       "      <td>The Authoritative Calvin and Hobbes</td>\n",
       "      <td><img src=\"https://images.gr-assets.com/books/1391114055m/59715.jpg\" style=\"max-height:124px;\"></img></td>\n",
       "      <td>16087</td>\n",
       "      <td>4.73</td>\n",
       "    </tr>\n",
       "    <tr>\n",
       "      <th>6919</th>\n",
       "      <td>The Indispensable Calvin and Hobbes: A Calvin and Hobbes Treasury</td>\n",
       "      <td><img src=\"https://s.gr-assets.com/assets/nophoto/book/111x148-bcc042a9c91a29c1d680899eff700a03.png\" style=\"max-height:124px;\"></img></td>\n",
       "      <td>14597</td>\n",
       "      <td>4.73</td>\n",
       "    </tr>\n",
       "  </tbody>\n",
       "</table>"
      ],
      "text/plain": [
       "<IPython.core.display.HTML object>"
      ]
     },
     "metadata": {},
     "output_type": "display_data"
    }
   ],
   "source": [
    "high_rating_books['img_html'] = high_rating_books['image_url']\\\n",
    "    .str.replace(\n",
    "        '(.*)', \n",
    "        '<img src=\"\\\\1\" style=\"max-height:124px;\"></img>'\n",
    "    )\n",
    "with pd.option_context('display.max_colwidth', 10000):\n",
    "  \n",
    "  display(HTML(high_rating_books[['original_title', 'img_html','ratings_count', 'average_rating' ]].to_html(escape=False)))"
   ]
  },
  {
   "cell_type": "code",
   "execution_count": 21,
   "metadata": {},
   "outputs": [],
   "source": [
    "authors_with_most_books = pd.DataFrame(books_df.authors.value_counts()[0:10]).reset_index()\n",
    "authors_with_most_books.columns = ['author', 'number_of_books']"
   ]
  },
  {
   "cell_type": "code",
   "execution_count": 22,
   "metadata": {},
   "outputs": [
    {
     "data": {
      "text/html": [
       "<div>\n",
       "<style scoped>\n",
       "    .dataframe tbody tr th:only-of-type {\n",
       "        vertical-align: middle;\n",
       "    }\n",
       "\n",
       "    .dataframe tbody tr th {\n",
       "        vertical-align: top;\n",
       "    }\n",
       "\n",
       "    .dataframe thead th {\n",
       "        text-align: right;\n",
       "    }\n",
       "</style>\n",
       "<table border=\"1\" class=\"dataframe\">\n",
       "  <thead>\n",
       "    <tr style=\"text-align: right;\">\n",
       "      <th></th>\n",
       "      <th>author</th>\n",
       "      <th>number_of_books</th>\n",
       "    </tr>\n",
       "  </thead>\n",
       "  <tbody>\n",
       "    <tr>\n",
       "      <th>0</th>\n",
       "      <td>Stephen King</td>\n",
       "      <td>60</td>\n",
       "    </tr>\n",
       "    <tr>\n",
       "      <th>1</th>\n",
       "      <td>Nora Roberts</td>\n",
       "      <td>59</td>\n",
       "    </tr>\n",
       "    <tr>\n",
       "      <th>2</th>\n",
       "      <td>Dean Koontz</td>\n",
       "      <td>47</td>\n",
       "    </tr>\n",
       "    <tr>\n",
       "      <th>3</th>\n",
       "      <td>Terry Pratchett</td>\n",
       "      <td>42</td>\n",
       "    </tr>\n",
       "    <tr>\n",
       "      <th>4</th>\n",
       "      <td>Agatha Christie</td>\n",
       "      <td>39</td>\n",
       "    </tr>\n",
       "    <tr>\n",
       "      <th>5</th>\n",
       "      <td>Meg Cabot</td>\n",
       "      <td>37</td>\n",
       "    </tr>\n",
       "    <tr>\n",
       "      <th>6</th>\n",
       "      <td>James Patterson</td>\n",
       "      <td>36</td>\n",
       "    </tr>\n",
       "    <tr>\n",
       "      <th>7</th>\n",
       "      <td>David Baldacci</td>\n",
       "      <td>34</td>\n",
       "    </tr>\n",
       "    <tr>\n",
       "      <th>8</th>\n",
       "      <td>John Grisham</td>\n",
       "      <td>33</td>\n",
       "    </tr>\n",
       "    <tr>\n",
       "      <th>9</th>\n",
       "      <td>J.D. Robb</td>\n",
       "      <td>33</td>\n",
       "    </tr>\n",
       "  </tbody>\n",
       "</table>\n",
       "</div>"
      ],
      "text/plain": [
       "            author  number_of_books\n",
       "0     Stephen King               60\n",
       "1     Nora Roberts               59\n",
       "2      Dean Koontz               47\n",
       "3  Terry Pratchett               42\n",
       "4  Agatha Christie               39\n",
       "5        Meg Cabot               37\n",
       "6  James Patterson               36\n",
       "7   David Baldacci               34\n",
       "8     John Grisham               33\n",
       "9        J.D. Robb               33"
      ]
     },
     "execution_count": 22,
     "metadata": {},
     "output_type": "execute_result"
    }
   ],
   "source": [
    "authors_with_most_books"
   ]
  },
  {
   "cell_type": "code",
   "execution_count": 23,
   "metadata": {},
   "outputs": [],
   "source": [
    "import matplotlib.pyplot as plt\n",
    "plt.figure(figsize=(12,6))\n",
    "plt.title('Distribution of Average Ratings')\n",
    "books_df['average_rating'].hist()\n",
    "display()"
   ]
  },
  {
   "cell_type": "code",
   "execution_count": 24,
   "metadata": {},
   "outputs": [
    {
     "name": "stdout",
     "output_type": "stream",
     "text": [
      "+-------+-------+------+\n",
      "|book_id|user_id|rating|\n",
      "+-------+-------+------+\n",
      "|      1|    314|     5|\n",
      "|      1|    439|     3|\n",
      "|      1|    588|     5|\n",
      "|      1|   1169|     4|\n",
      "|      1|   1185|     4|\n",
      "+-------+-------+------+\n",
      "only showing top 5 rows\n",
      "\n"
     ]
    }
   ],
   "source": [
    "ratings.show(5)"
   ]
  },
  {
   "cell_type": "code",
   "execution_count": 25,
   "metadata": {},
   "outputs": [
    {
     "name": "stdout",
     "output_type": "stream",
     "text": [
      "root\n",
      " |-- book_id: integer (nullable = true)\n",
      " |-- user_id: integer (nullable = true)\n",
      " |-- rating: integer (nullable = true)\n",
      "\n"
     ]
    }
   ],
   "source": [
    "# Use .printSchema() to see the datatypes of the ratings dataset\n",
    "ratings.printSchema()"
   ]
  },
  {
   "cell_type": "code",
   "execution_count": 26,
   "metadata": {},
   "outputs": [],
   "source": [
    "# Convert the columns to the proper data types\n",
    "ratings = ratings.select(ratings.user_id,\n",
    "                         ratings.book_id,\n",
    "                         ratings.rating.cast(\"double\"))"
   ]
  },
  {
   "cell_type": "code",
   "execution_count": 27,
   "metadata": {},
   "outputs": [
    {
     "name": "stdout",
     "output_type": "stream",
     "text": [
      "root\n",
      " |-- user_id: integer (nullable = true)\n",
      " |-- book_id: integer (nullable = true)\n",
      " |-- rating: double (nullable = true)\n",
      "\n"
     ]
    }
   ],
   "source": [
    "# Call .printSchema() again to confirm the columns are now in the correct format\n",
    "ratings.printSchema()"
   ]
  },
  {
   "cell_type": "code",
   "execution_count": 28,
   "metadata": {},
   "outputs": [
    {
     "name": "stdout",
     "output_type": "stream",
     "text": [
      "+-------+-------+------+\n",
      "|user_id|book_id|rating|\n",
      "+-------+-------+------+\n",
      "|    314|      1|   5.0|\n",
      "|    439|      1|   3.0|\n",
      "|    588|      1|   5.0|\n",
      "|   1169|      1|   4.0|\n",
      "|   1185|      1|   4.0|\n",
      "+-------+-------+------+\n",
      "only showing top 5 rows\n",
      "\n"
     ]
    }
   ],
   "source": [
    "ratings.show(5)"
   ]
  },
  {
   "cell_type": "code",
   "execution_count": 29,
   "metadata": {},
   "outputs": [
    {
     "name": "stdout",
     "output_type": "stream",
     "text": [
      "The ratings dataframe is  99.82% empty.\n"
     ]
    }
   ],
   "source": [
    "# Menghitung total number of ratings pada dataset\n",
    "numerator = ratings.select(\"rating\").count()\n",
    "\n",
    "# Menghitung number of distinct Id's\n",
    "num_users = ratings.select(\"user_id\").distinct().count()\n",
    "num_items = ratings.select(\"book_id\").distinct().count()\n",
    "\n",
    "# Denominator sama dengan number of users multiplied berdasarkan number of items\n",
    "denominator = num_users * num_items\n",
    "\n",
    "sparsity = (1.0 - (numerator * 1.0)/ denominator) * 100\n",
    "print(\"The ratings dataframe is \", \"%.2f\" % sparsity + \"% empty.\")"
   ]
  },
  {
   "cell_type": "code",
   "execution_count": 30,
   "metadata": {},
   "outputs": [
    {
     "name": "stdout",
     "output_type": "stream",
     "text": [
      "+-------+-----+\n",
      "|user_id|count|\n",
      "+-------+-----+\n",
      "|  12874|  200|\n",
      "|  30944|  200|\n",
      "|  28158|  199|\n",
      "|  12381|  199|\n",
      "|  52036|  199|\n",
      "|   6630|  197|\n",
      "|  37834|  197|\n",
      "|  45554|  197|\n",
      "|   9806|  196|\n",
      "|  19729|  196|\n",
      "+-------+-----+\n",
      "only showing top 10 rows\n",
      "\n"
     ]
    }
   ],
   "source": [
    "# The GroupBy and Filter Methods\n",
    "# Exploratory Data Analysis (EDA)\n",
    "from pyspark.sql.functions import col, min, max, avg, lit\n",
    "\n",
    "# Group data by user_id, count ratings\n",
    "(ratings.groupBy(\"user_id\")\n",
    "    .count()\n",
    "    .filter(\"`count` > 1\")\n",
    "    .sort(col(\"count\").desc())\n",
    "    .show(n = 10))"
   ]
  },
  {
   "cell_type": "code",
   "execution_count": 31,
   "metadata": {},
   "outputs": [
    {
     "name": "stdout",
     "output_type": "stream",
     "text": [
      "+-------+-----+\n",
      "|book_id|count|\n",
      "+-------+-----+\n",
      "|    148|  100|\n",
      "|    463|  100|\n",
      "|    471|  100|\n",
      "|    496|  100|\n",
      "|    833|  100|\n",
      "|   1088|  100|\n",
      "|   1238|  100|\n",
      "|   1342|  100|\n",
      "|   1580|  100|\n",
      "|   1591|  100|\n",
      "+-------+-----+\n",
      "only showing top 10 rows\n",
      "\n"
     ]
    }
   ],
   "source": [
    "# Group data by book_id, count ratings\n",
    "(ratings.groupBy(\"book_id\")\n",
    "    .count()\n",
    "    .filter(\"`count` > 1\")\n",
    "    .sort(col(\"count\").desc())\n",
    "    .show(n = 10))"
   ]
  },
  {
   "cell_type": "code",
   "execution_count": 32,
   "metadata": {},
   "outputs": [
    {
     "name": "stdout",
     "output_type": "stream",
     "text": [
      "+-------+-----+\n",
      "|book_id|count|\n",
      "+-------+-----+\n",
      "|    243|  100|\n",
      "|    392|  100|\n",
      "|    540|  100|\n",
      "|    623|  100|\n",
      "|    737|  100|\n",
      "|    858|  100|\n",
      "|    897|  100|\n",
      "|   1025|  100|\n",
      "|   1084|  100|\n",
      "|   1127|  100|\n",
      "+-------+-----+\n",
      "only showing top 10 rows\n",
      "\n"
     ]
    }
   ],
   "source": [
    "# Group data berdasarkan book_id dan count ratings\n",
    "(ratings.groupBy(\"book_id\")\n",
    "    .count()\n",
    "    .filter(\"`count` > 1\")\n",
    "    .sort(col(\"count\").desc())\n",
    "    .show(n = 10))"
   ]
  },
  {
   "cell_type": "markdown",
   "metadata": {},
   "source": [
    "#### Summary Statistics"
   ]
  },
  {
   "cell_type": "code",
   "execution_count": 33,
   "metadata": {},
   "outputs": [
    {
     "name": "stdout",
     "output_type": "stream",
     "text": [
      "Item dengan peringkat (rating) paling sedikit: \n",
      "+----------+\n",
      "|min(count)|\n",
      "+----------+\n",
      "|         8|\n",
      "+----------+\n",
      "\n"
     ]
    }
   ],
   "source": [
    "# Min num ratings\n",
    "print(\"Item dengan peringkat (rating) paling sedikit: \")\n",
    "ratings.groupBy(\"book_id\").count().select(min(\"count\")).show()"
   ]
  },
  {
   "cell_type": "code",
   "execution_count": 34,
   "metadata": {},
   "outputs": [
    {
     "name": "stdout",
     "output_type": "stream",
     "text": [
      "Nilai rata-rata rating per item: \n",
      "+----------+\n",
      "|avg(count)|\n",
      "+----------+\n",
      "|   98.1756|\n",
      "+----------+\n",
      "\n"
     ]
    }
   ],
   "source": [
    "# Avg num ratings \n",
    "print(\"Nilai rata-rata rating per item: \")\n",
    "ratings.groupBy(\"book_id\").count().select(avg(\"count\")).show()"
   ]
  },
  {
   "cell_type": "code",
   "execution_count": 35,
   "metadata": {},
   "outputs": [
    {
     "name": "stdout",
     "output_type": "stream",
     "text": [
      "Pengguna dengan peringkat (rating) paling sedikit: \n",
      "+----------+\n",
      "|min(count)|\n",
      "+----------+\n",
      "|         2|\n",
      "+----------+\n",
      "\n"
     ]
    }
   ],
   "source": [
    "# Min num ratings untuk pengguna\n",
    "print(\"Pengguna dengan peringkat (rating) paling sedikit: \")\n",
    "ratings.groupBy(\"user_id\").count().select(min(\"count\")).show()"
   ]
  },
  {
   "cell_type": "code",
   "execution_count": 36,
   "metadata": {},
   "outputs": [
    {
     "name": "stdout",
     "output_type": "stream",
     "text": [
      "Item dengan peringkat (rating) paling sedikit: \n",
      "+-------+-----+\n",
      "|book_id|count|\n",
      "+-------+-----+\n",
      "|   7803|    8|\n",
      "|   9345|   11|\n",
      "|   9486|   24|\n",
      "|   1935|   34|\n",
      "|   9315|   36|\n",
      "|   9553|   41|\n",
      "|   8181|   44|\n",
      "|   9260|   46|\n",
      "|   9479|   47|\n",
      "|   9705|   48|\n",
      "+-------+-----+\n",
      "only showing top 10 rows\n",
      "\n"
     ]
    }
   ],
   "source": [
    "# Min num ratings \n",
    "print(\"Item dengan peringkat (rating) paling sedikit: \")\n",
    "ratings.groupBy(\"book_id\").count().sort('count').show(10)"
   ]
  },
  {
   "cell_type": "code",
   "execution_count": 37,
   "metadata": {},
   "outputs": [
    {
     "name": "stdout",
     "output_type": "stream",
     "text": [
      "Nilai rata-rata rating per pengguna: \n",
      "+------------------+\n",
      "|        avg(count)|\n",
      "+------------------+\n",
      "|18.376684636118597|\n",
      "+------------------+\n",
      "\n"
     ]
    }
   ],
   "source": [
    "# Avg num ratings per users\n",
    "print(\"Nilai rata-rata rating per pengguna: \")\n",
    "ratings.groupBy(\"user_id\").count().select(avg(\"count\")).show()"
   ]
  },
  {
   "cell_type": "code",
   "execution_count": 38,
   "metadata": {},
   "outputs": [
    {
     "name": "stdout",
     "output_type": "stream",
     "text": [
      "+-------+------------------+-----------------+------------------+\n",
      "|summary|           user_id|          book_id|            rating|\n",
      "+-------+------------------+-----------------+------------------+\n",
      "|  count|            981756|           981756|            981756|\n",
      "|   mean|25616.759933221696|4943.275635697668|3.8565335989797873|\n",
      "| stddev|15228.338825882167|2873.207414896114|0.9839408559620033|\n",
      "|    min|                 1|                1|               1.0|\n",
      "|    max|             53424|            10000|               5.0|\n",
      "+-------+------------------+-----------------+------------------+\n",
      "\n"
     ]
    }
   ],
   "source": [
    "#1 million ratings\n",
    "ratings.describe().show()"
   ]
  },
  {
   "cell_type": "code",
   "execution_count": 39,
   "metadata": {},
   "outputs": [
    {
     "name": "stdout",
     "output_type": "stream",
     "text": [
      "+-------+-----+\n",
      "|book_id|count|\n",
      "+-------+-----+\n",
      "|    148|  100|\n",
      "|    463|  100|\n",
      "|    471|  100|\n",
      "|    496|  100|\n",
      "|    833|  100|\n",
      "|   1088|  100|\n",
      "|   1238|  100|\n",
      "|   1342|  100|\n",
      "|   1580|  100|\n",
      "|   1591|  100|\n",
      "|   1645|  100|\n",
      "|   1829|  100|\n",
      "|   1959|  100|\n",
      "|   2122|  100|\n",
      "|   2142|  100|\n",
      "|   2366|  100|\n",
      "|   2659|  100|\n",
      "|   2866|  100|\n",
      "|   3175|  100|\n",
      "|   3749|  100|\n",
      "+-------+-----+\n",
      "only showing top 20 rows\n",
      "\n"
     ]
    }
   ],
   "source": [
    "# Buku yang memeilikki 100 rating\n",
    "\n",
    "ratings.groupby('book_id').count().show()"
   ]
  },
  {
   "cell_type": "markdown",
   "metadata": {},
   "source": [
    "# MACHINE LEARNING (ML)"
   ]
  },
  {
   "cell_type": "markdown",
   "metadata": {},
   "source": [
    "Proyek ini akan menggunakan model ALS untuk memfaktorkan matriks user-book menjadi dua matriks terpisah. Ketika balik ke proses ini dengan mengalikan dua faktor matriks, maka akan mendapatkan perkiraan untuk setiap sel di matriks awal juga sel-sel yang kosong. Dimana setiap sel akan diisi sengan angka. Nilai yang ada di matriks awalakan bertindak sebagai label untuk training proses. Model tersebut akan meminimalkan perbedaan antara matriks faktor yang artinya akan memprediksi nilai-nilai yang kosong.\n",
    "\n",
    "Algoritma faktorisasi akan menjadi non-negative matrix factorization (NMF atau NNMF), karena yang kita inginkan hanyalah nilai yang positif. Pada goodreads book rating sistem akan merating nilai postif dengan rentang 0-5."
   ]
  },
  {
   "cell_type": "code",
   "execution_count": 40,
   "metadata": {},
   "outputs": [],
   "source": [
    "(training, test) = ratings.randomSplit([0.8, 0.2])"
   ]
  },
  {
   "cell_type": "code",
   "execution_count": 41,
   "metadata": {},
   "outputs": [
    {
     "name": "stdout",
     "output_type": "stream",
     "text": [
      "+-------+-------+------+\n",
      "|user_id|book_id|rating|\n",
      "+-------+-------+------+\n",
      "|      1|   1180|   4.0|\n",
      "|      1|   4893|   3.0|\n",
      "|      1|   6285|   4.0|\n",
      "|      7|   1199|   4.0|\n",
      "|      7|   1464|   5.0|\n",
      "+-------+-------+------+\n",
      "only showing top 5 rows\n",
      "\n"
     ]
    }
   ],
   "source": [
    "test.show(5)"
   ]
  },
  {
   "cell_type": "code",
   "execution_count": 42,
   "metadata": {},
   "outputs": [],
   "source": [
    "# Machine Learning (ML)\n",
    "from pyspark.ml.recommendation import ALS # Alternating Least Squares model\n",
    "from pyspark.ml.tuning import ParamGridBuilder, CrossValidator # Cross-Validation\n",
    "from pyspark.ml.evaluation import RegressionEvaluator # Performance metric"
   ]
  },
  {
   "cell_type": "markdown",
   "metadata": {},
   "source": [
    "#### Cross Validation Pipeline"
   ]
  },
  {
   "cell_type": "code",
   "execution_count": 43,
   "metadata": {},
   "outputs": [],
   "source": [
    "# Membuat Generic ALS model - tanpa hyperparameters\n",
    "als = ALS(userCol=\"user_id\", itemCol=\"book_id\", ratingCol=\"rating\", \n",
    "          nonnegative = True, # Non negative matrix factorization\n",
    "          coldStartStrategy = \"drop\", # What to do if user do not appear in train and test set\n",
    "          implicitPrefs = False) # Explicit preference"
   ]
  },
  {
   "cell_type": "code",
   "execution_count": 44,
   "metadata": {},
   "outputs": [
    {
     "data": {
      "text/plain": [
       "pyspark.ml.recommendation.ALS"
      ]
     },
     "execution_count": 44,
     "metadata": {},
     "output_type": "execute_result"
    }
   ],
   "source": [
    "# Confirm that a model called \"als\" was created\n",
    "type(als)"
   ]
  },
  {
   "cell_type": "markdown",
   "metadata": {},
   "source": [
    "##### Train test split"
   ]
  },
  {
   "cell_type": "code",
   "execution_count": 45,
   "metadata": {},
   "outputs": [
    {
     "name": "stdout",
     "output_type": "stream",
     "text": [
      "<class 'pyspark.sql.dataframe.DataFrame'>\n"
     ]
    }
   ],
   "source": [
    "# Membuat test and train set\n",
    "(train, test) = ratings.randomSplit([0.8, 0.2], \n",
    "                                    seed = 1234)\n",
    "print(type(train))"
   ]
  },
  {
   "cell_type": "markdown",
   "metadata": {},
   "source": [
    "#### Hyperparameter Grid"
   ]
  },
  {
   "cell_type": "code",
   "execution_count": 46,
   "metadata": {},
   "outputs": [],
   "source": [
    "# Menambah hyperparameters dan respective values menjadi param_grid\n",
    "param_grid = ParamGridBuilder() \\\n",
    "            .addGrid(als.rank, [10, 50, 100]) \\\n",
    "            .addGrid(als.maxIter, [5, 50, 100]) \\\n",
    "            .addGrid(als.regParam, [.01, .05, .1]) \\\n",
    "            .build()"
   ]
  },
  {
   "cell_type": "markdown",
   "metadata": {},
   "source": [
    "#### Performance metric"
   ]
  },
  {
   "cell_type": "code",
   "execution_count": 47,
   "metadata": {},
   "outputs": [
    {
     "name": "stdout",
     "output_type": "stream",
     "text": [
      "Num models to be tested:  27\n"
     ]
    }
   ],
   "source": [
    "# Define evaluator as RMSE\n",
    "evaluator = RegressionEvaluator(metricName = \"rmse\", \n",
    "                                labelCol = \"rating\", \n",
    "                                predictionCol = \"prediction\")\n",
    "# Print length of evaluator\n",
    "print (\"Num models to be tested: \", len(param_grid))"
   ]
  },
  {
   "cell_type": "markdown",
   "metadata": {},
   "source": [
    "#### Cross validation "
   ]
  },
  {
   "cell_type": "code",
   "execution_count": 48,
   "metadata": {},
   "outputs": [
    {
     "name": "stdout",
     "output_type": "stream",
     "text": [
      "CrossValidator_4c9cc702d762\n"
     ]
    }
   ],
   "source": [
    "# Build cross validation using CrossValidator\n",
    "CV = CrossValidator(estimator = als, \n",
    "                    estimatorParamMaps = param_grid, \n",
    "                    evaluator = evaluator, \n",
    "                    numFolds = 5)\n",
    "# Confirm cv was built\n",
    "print(CV)"
   ]
  },
  {
   "cell_type": "markdown",
   "metadata": {},
   "source": [
    "### Alternating Least Squares Model (ALS)"
   ]
  },
  {
   "cell_type": "markdown",
   "metadata": {},
   "source": [
    "#### Generic model"
   ]
  },
  {
   "cell_type": "code",
   "execution_count": 49,
   "metadata": {},
   "outputs": [
    {
     "name": "stdout",
     "output_type": "stream",
     "text": [
      "+-------+-------+------+----------+\n",
      "|user_id|book_id|rating|prediction|\n",
      "+-------+-------+------+----------+\n",
      "|  20467|    148|   3.0|  2.988968|\n",
      "|   3087|    148|   3.0|  3.490897|\n",
      "|  10727|    148|   4.0|  3.331768|\n",
      "|  41282|    148|   3.0| 4.0919285|\n",
      "|  24326|    148|   5.0| 3.3628643|\n",
      "|  32055|    148|   3.0| 3.1412587|\n",
      "|  27834|    148|   3.0|  3.919591|\n",
      "|  13991|    148|   4.0| 3.7761638|\n",
      "|  15547|    148|   4.0|  2.939672|\n",
      "|  14248|    148|   4.0| 3.5569577|\n",
      "+-------+-------+------+----------+\n",
      "only showing top 10 rows\n",
      "\n"
     ]
    }
   ],
   "source": [
    "# Fit generic model to the 'train' dataset\n",
    "als_mod = als.fit(train)\n",
    "test_pred = als_mod.transform(test)\n",
    "\n",
    "# View the predictions \n",
    "test_pred.show(n = 10)"
   ]
  },
  {
   "cell_type": "code",
   "execution_count": 50,
   "metadata": {},
   "outputs": [
    {
     "name": "stdout",
     "output_type": "stream",
     "text": [
      "0.9189663667500532\n"
     ]
    }
   ],
   "source": [
    "# Calculate and print the RMSE of test_predictions\n",
    "print(evaluator.evaluate(test_pred))"
   ]
  },
  {
   "cell_type": "markdown",
   "metadata": {},
   "source": [
    "#### Predictions and Performance Evaluation"
   ]
  },
  {
   "cell_type": "code",
   "execution_count": 51,
   "metadata": {},
   "outputs": [],
   "source": [
    "best_model = als_mod"
   ]
  },
  {
   "cell_type": "code",
   "execution_count": 52,
   "metadata": {},
   "outputs": [
    {
     "name": "stdout",
     "output_type": "stream",
     "text": [
      "+-------+-------+------+----------+\n",
      "|user_id|book_id|rating|prediction|\n",
      "+-------+-------+------+----------+\n",
      "|  20467|    148|   3.0|  2.988968|\n",
      "|   3087|    148|   3.0|  3.490897|\n",
      "|  10727|    148|   4.0|  3.331768|\n",
      "|  41282|    148|   3.0| 4.0919285|\n",
      "|  24326|    148|   5.0| 3.3628643|\n",
      "|  32055|    148|   3.0| 3.1412587|\n",
      "|  27834|    148|   3.0|  3.919591|\n",
      "|  13991|    148|   4.0| 3.7761638|\n",
      "|  15547|    148|   4.0|  2.939672|\n",
      "|  14248|    148|   4.0| 3.5569577|\n",
      "+-------+-------+------+----------+\n",
      "only showing top 10 rows\n",
      "\n",
      "RMSE:  0.9189663667500532\n"
     ]
    }
   ],
   "source": [
    "test_predictions = best_model.transform(test)\n",
    "\n",
    "# View the predictions \n",
    "test_predictions.show(n = 10)\n",
    "\n",
    "# Calculate and print the RMSE of test_predictions\n",
    "print (\"RMSE: \", evaluator.evaluate(test_predictions))"
   ]
  },
  {
   "cell_type": "markdown",
   "metadata": {},
   "source": [
    "#### Model Performance Evaluation and Output Cleanup\n",
    " "
   ]
  },
  {
   "cell_type": "code",
   "execution_count": 53,
   "metadata": {},
   "outputs": [],
   "source": [
    "# Generate n recommendations for all users\n",
    "ALS_recommendations = best_model.recommendForAllUsers(numItems = 10) # n - 10"
   ]
  },
  {
   "cell_type": "markdown",
   "metadata": {},
   "source": [
    "Berikut hasil 10 rekomendasi untuk semua pengguna. Ini juga dapat menghasilkan rekomendasi untuk buku yang telah dibaca pengguna."
   ]
  },
  {
   "cell_type": "code",
   "execution_count": 54,
   "metadata": {},
   "outputs": [
    {
     "name": "stdout",
     "output_type": "stream",
     "text": [
      "+-------+--------------------+\n",
      "|user_id|     recommendations|\n",
      "+-------+--------------------+\n",
      "|    148|[[8946, 4.7048097...|\n",
      "|    463|[[9550, 4.977393]...|\n",
      "|    471|[[8616, 2.993556]...|\n",
      "|    496|[[3358, 5.465655]...|\n",
      "|    833|[[9842, 4.7741456...|\n",
      "|   1088|[[8946, 4.917199]...|\n",
      "|   1238|[[8946, 5.49808],...|\n",
      "|   1342|[[2064, 5.073918]...|\n",
      "|   1580|[[8946, 5.054802]...|\n",
      "|   1591|[[3498, 3.1270342...|\n",
      "+-------+--------------------+\n",
      "only showing top 10 rows\n",
      "\n"
     ]
    }
   ],
   "source": [
    "ALS_recommendations.show(n = 10)"
   ]
  },
  "# Temporary table\n",
    "ALS_recommendations.registerTempTable(\"ALS_recs_temp\")"
   ]
  },
  {
   "cell_type": "code",
   "execution_count": 43,
   "metadata": {},
   "outputs": [
    {
     "name": "stdout",
     "output_type": "stream",
     "text": [
      "+-------+-------+----------+\n",
      "|user_id|book_id|prediction|\n",
      "+-------+-------+----------+\n",
      "|    148|   6902| 4.7460895|\n",
      "|    148|   9076| 4.5794487|\n",
      "|    148|   6920| 4.5688477|\n",
      "|    148|   9842|  4.554653|\n",
      "|    148|   3628| 4.5515532|\n",
      "|    148|   5580| 4.5302067|\n",
      "|    148|   6862|  4.525831|\n",
      "|    148|   7254| 4.5084925|\n",
      "|    148|   9566| 4.4927077|\n",
      "|    148|    780| 4.4882708|\n",
      "|    463|   4154| 5.4923387|\n",
      "|    463|   2236| 5.2649426|\n",
      "|    463|   1338|  5.066206|\n",
      "|    463|   9842| 4.8977966|\n",
      "|    463|   6102| 4.8837175|\n",
      "|    463|    719| 4.8506765|\n",
      "|    463|   5955|  4.824903|\n",
      "|    463|   8926|  4.810867|\n",
      "|    463|   4471|  4.797804|\n",
      "|    463|   6784| 4.7844486|\n",
      "+-------+-------+----------+\n",
      "only showing top 20 rows\n",
      "\n"
     ]
    }
   ],
   "source": [
    "clean_recs = spark.sql(\"\"\"SELECT user_id,\n",
    "                            movieIds_and_ratings.book_id AS book_id,\n",
    "                            movieIds_and_ratings.rating AS prediction\n",
    "                        FROM ALS_recs_temp\n",
    "                        LATERAL VIEW explode(recommendations) exploded_table\n",
    "                            AS movieIds_and_ratings\"\"\")\n",
    "clean_recs.show()"
   ]
  },
  {
   "cell_type": "markdown",
   "metadata": {},
   "source": [
    "Untuk memeriksa, buku mana yang tidak dibaca oleh pengguna, saya akan menggabungkan tabel dengan peringkat sebenarnya dan menyaring buku-buku yang ada peringkatnya."
   ]
  },
  {
   "cell_type": "code",
   "execution_count": 44,
   "metadata": {},
   "outputs": [
    {
     "name": "stdout",
     "output_type": "stream",
     "text": [
      "+-------+-------+----------+------+\n",
      "|user_id|book_id|prediction|rating|\n",
      "+-------+-------+----------+------+\n",
      "|     28|   9141|  4.229733|  null|\n",
      "|     30|   6018| 4.4258723|  null|\n",
      "|     41|   2865| 5.2365274|  null|\n",
      "|     43|   3520| 3.7285898|  null|\n",
      "|     75|   2700|  5.150179|  null|\n",
      "|     82|   9537|  4.857543|  null|\n",
      "|     96|   8079| 4.9484286|  null|\n",
      "|    113|   8109|  5.185103|  null|\n",
      "|    119|   7440| 5.4659295|  null|\n",
      "|    124|   9470|   4.75821|  null|\n",
      "|    132|   6590| 5.1020083|  null|\n",
      "|    149|   1338| 4.8680267|  null|\n",
      "|    157|   7831|  4.931721|  null|\n",
      "|    175|   5735| 3.7966058|  null|\n",
      "|    186|   7282|  4.541276|  null|\n",
      "|    187|   2840|  4.887209|  null|\n",
      "|    219|   3491|  4.634855|  null|\n",
      "|    274|   6902|  5.400831|  null|\n",
      "|    317|    913| 1.0117437|  null|\n",
      "|    325|   4107|  4.893344|  null|\n",
      "+-------+-------+----------+------+\n",
      "only showing top 20 rows\n",
      "\n"
     ]
    }
   ],
   "source": [
    "# Recommendations for unread books\n",
    "(clean_recs.join(ratings, [\"user_id\", \"book_id\"], \"left\")\n",
    "    .filter(ratings.rating.isNull()).show())"
   ]
  },
  {
   "cell_type": "code",
   "execution_count": 45,
   "metadata": {},
   "outputs": [
    {
     "name": "stdout",
     "output_type": "stream",
     "text": [
      "521482\n"
     ]
    }
   ],
   "source": [
    "new_books = (clean_recs.join(ratings, [\"user_id\", \"book_id\"], \"left\")\n",
    "    .filter(ratings.rating.isNull()))\n",
    "\n",
    "print(new_books.count())"
   ]
  },
  {
   "cell_type": "markdown",
   "metadata": {},
   "source": [
    "Menggabungkan tabel dengan tabel to_read. Tabel ini menyimpan informasi buku mana yang ditandai oleh pengguna sebagai \"Saya ingin membacanya\". Ini mungkin menunjukkan bahwa dia cenderung menilai mereka tinggi, karena telah memilihnya sejak awal."
   ]
  },
  {
   "cell_type": "code",
   "execution_count": 46,
   "metadata": {},
   "outputs": [
    {
     "name": "stdout",
     "output_type": "stream",
     "text": [
      "+-------+-------+----------+------+-------+\n",
      "|user_id|book_id|prediction|rating|to_read|\n",
      "+-------+-------+----------+------+-------+\n",
      "|     28|   9141|  4.229733|  null|   null|\n",
      "|     30|   6018| 4.4258723|  null|   null|\n",
      "|     41|   2865| 5.2365274|  null|   null|\n",
      "|     43|   3520| 3.7285898|  null|   null|\n",
      "|     75|   2700|  5.150179|  null|   null|\n",
      "|     82|   9537|  4.857543|  null|   null|\n",
      "|     96|   8079| 4.9484286|  null|   null|\n",
      "|    113|   8109|  5.185103|  null|   null|\n",
      "|    119|   7440| 5.4659295|  null|   null|\n",
      "|    124|   9470|   4.75821|  null|   null|\n",
      "|    132|   6590| 5.1020083|  null|   null|\n",
      "|    149|   1338| 4.8680267|  null|   null|\n",
      "|    157|   7831|  4.931721|  null|   null|\n",
      "|    175|   5735| 3.7966058|  null|   null|\n",
      "|    186|   7282|  4.541276|  null|   null|\n",
      "|    187|   2840|  4.887209|  null|   null|\n",
      "|    219|   3491|  4.634855|  null|   null|\n",
      "|    274|   6902|  5.400831|  null|   null|\n",
      "|    317|    913| 1.0117437|  null|   null|\n",
      "|    325|   4107|  4.893344|  null|   null|\n",
      "+-------+-------+----------+------+-------+\n",
      "only showing top 20 rows\n",
      "\n",
      "None\n"
     ]
    }
   ],
   "source": [
    "recommendations = new_books.join(to_read.withColumn('to_read', lit(1)), \n",
    "                              on = [\"user_id\", \"book_id\"], \n",
    "                              how = \"left\")\n",
    "print(recommendations.show())"
   ]
  },
  {
   "cell_type": "code",
   "execution_count": 47,
   "metadata": {},
   "outputs": [
    {
     "name": "stdout",
     "output_type": "stream",
     "text": [
      "+-------+------+\n",
      "|to_read| count|\n",
      "+-------+------+\n",
      "|   null|520774|\n",
      "|      1|   708|\n",
      "+-------+------+\n",
      "\n"
     ]
    }
   ],
   "source": [
    "(recommendations\n",
    "     .groupby('to_read')\n",
    "     .count()\n",
    "     .show())"
   ]
  },
  {
   "cell_type": "code",
   "execution_count": 48,
   "metadata": {},
   "outputs": [
    {
     "name": "stdout",
     "output_type": "stream",
     "text": [
      "+-------+-------+----------+-------+\n",
      "|user_id|book_id|prediction|to_read|\n",
      "+-------+-------+----------+-------+\n",
      "|  32885|   6457| 4.9083138|      1|\n",
      "|  34633|    265| 4.1651983|      1|\n",
      "|  51390|   7039|  3.005906|      1|\n",
      "|   3366|   9036| 3.0142484|      1|\n",
      "|   9278|   4154| 4.5114484|      1|\n",
      "|  19114|   3086| 4.6550117|      1|\n",
      "|  24312|   7762| 4.3720603|      1|\n",
      "|  42704|    267| 5.8271627|      1|\n",
      "|  45266|   5413|  5.263756|      1|\n",
      "|  50559|    137|  4.956568|      1|\n",
      "|  15302|   5182|  4.381489|      1|\n",
      "|  26628|   4594|  4.851634|      1|\n",
      "|  36806|   3628| 5.3496604|      1|\n",
      "|  37191|   2520|  5.914987|      1|\n",
      "|  47400|   1047|  5.127445|      1|\n",
      "|  20984|   1331|  4.414081|      1|\n",
      "|  51958|     24| 3.9842246|      1|\n",
      "|  17687|   1745| 4.3483777|      1|\n",
      "|  17722|   6902| 5.7230887|      1|\n",
      "|  41831|    464|   4.02945|      1|\n",
      "+-------+-------+----------+-------+\n",
      "only showing top 20 rows\n",
      "\n"
     ]
    }
   ],
   "source": [
    "(recommendations\n",
    "     .filter(recommendations.to_read.isNotNull())\n",
    "     .select(['user_id', 'book_id', 'prediction','to_read'])\n",
    "     .show())"
   ]
  },
  {
   "cell_type": "code",
   "execution_count": 49,
   "metadata": {},
   "outputs": [
    {
     "name": "stdout",
     "output_type": "stream",
     "text": [
      "+-------+-------+----------+-------+\n",
      "|user_id|book_id|prediction|to_read|\n",
      "+-------+-------+----------+-------+\n",
      "|  32885|   6457| 4.9083138|      1|\n",
      "|  34633|    265| 4.1651983|      1|\n",
      "|  51390|   7039|  3.005906|      1|\n",
      "|   3366|   9036| 3.0142484|      1|\n",
      "|   9278|   4154| 4.5114484|      1|\n",
      "+-------+-------+----------+-------+\n",
      "only showing top 5 rows\n",
      "\n"
     ]
    }
   ],
   "source": [
    "to_read_recs = (recommendations\n",
    "     .filter(recommendations.to_read.isNotNull())\n",
    "     .select(['user_id', 'book_id', 'prediction','to_read']))\n",
    "to_read_recs.show(n = 5)"
   ]
  },
  {
   "cell_type": "code",
   "execution_count": 50,
   "metadata": {},
   "outputs": [
    {
     "name": "stdout",
     "output_type": "stream",
     "text": [
      "+----------+-----+\n",
      "|pred_trunc|count|\n",
      "+----------+-----+\n",
      "|         0|    1|\n",
      "|         1|   11|\n",
      "|         2|   13|\n",
      "|         3|  107|\n",
      "|         4|  405|\n",
      "|         5|  170|\n",
      "|         6|    1|\n",
      "+----------+-----+\n",
      "\n"
     ]
    }
   ],
   "source": [
    "(to_read_recs\n",
    "     .withColumn('pred_trunc', to_read_recs.prediction.substr(1,1))\n",
    "     .groupby('pred_trunc')\n",
    "     .count()\n",
    "     .sort('pred_trunc')\n",
    "    .show())"
   ]
  },
  {
   "cell_type": "code",
   "execution_count": 51,
   "metadata": {},
   "outputs": [
    {
     "data": {
      "image/png": "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\n",
      "text/plain": [
       "<Figure size 864x432 with 1 Axes>"
      ]
     },
     "metadata": {},
     "output_type": "display_data"
    }
   ],
   "source": [
    "import matplotlib.pyplot as plt\n",
    "\n",
    "plt.figure(figsize=(12,6))\n",
    "plt.title('Most of the predicted ratings are above 3.8', fontsize = 12)\n",
    "plt.suptitle('Distribution of predictedd ratings for the to_do lists', fontsize = 18)\n",
    "rec = recommendations.toPandas()\n",
    "rec['prediction'].hist()\n",
    "display()"
   ]
  }
 ],
 "metadata": {
  "kernelspec": {
   "display_name": "Python 3",
   "language": "python",
   "name": "python3"
  },
  "language_info": {
   "codemirror_mode": {
    "name": "ipython",
    "version": 3
   },
   "file_extension": ".py",
   "mimetype": "text/x-python",
   "name": "python",
   "nbconvert_exporter": "python",
   "pygments_lexer": "ipython3",
   "version": "3.6.5"
  }
 },
 "nbformat": 4,
 "nbformat_minor": 4
}
